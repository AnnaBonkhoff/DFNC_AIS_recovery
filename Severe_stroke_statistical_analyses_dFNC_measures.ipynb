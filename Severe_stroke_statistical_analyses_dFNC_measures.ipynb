{
 "cells": [
  {
   "cell_type": "code",
   "execution_count": null,
   "metadata": {},
   "outputs": [],
   "source": [
    "# loading packages\n",
    "import numpy as np\n",
    "import pandas as pd\n",
    "from scipy.io import loadmat\n",
    "import glob\n",
    "import os\n",
    "import sys\n",
    "import matplotlib.pyplot as plt\n",
    "from pingouin import pairwise_corr\n",
    "import seaborn as sns\n",
    "sns.set(style=\"white\")\n",
    "\n",
    "from scipy import stats\n",
    "from mne.viz import circular_layout, plot_connectivity_circle\n",
    "import statsmodels.api as sm\n",
    "from statsmodels.formula.api import ols\n",
    "import statsmodels.stats.multicomp\n",
    "\n",
    "import scipy.stats as chi2_contingency\n",
    "import scipy.stats as stats\n",
    "from scipy.spatial import distance\n",
    "\n",
    "# increasing display number of pandas columns and rows\n",
    "pd.set_option('display.max_columns', 200)\n",
    "pd.set_option('display.max_rows', 200)"
   ]
  },
  {
   "cell_type": "code",
   "execution_count": null,
   "metadata": {},
   "outputs": [],
   "source": [
    "# functions to transform vector to dfnc matrix\n",
    "def calc_num_components(a):\n",
    "    num_pairs = len(a)\n",
    "    num_components = int(np.ceil(np.sqrt(2 * num_pairs - 1)))\n",
    "    if num_components * (num_components - 1) == 2 * num_pairs:\n",
    "        return num_components\n",
    "    else:\n",
    "        return 0\n",
    "\n",
    "\n",
    "def return_dfnc_from_vector(a):\n",
    "    '''This Function returns a dfnc matrix given a vector\n",
    "        a : the vector of correlation pairs\n",
    "    '''\n",
    "    n = calc_num_components(a)\n",
    "    out = np.zeros((n, n))\n",
    "\n",
    "    if not n:\n",
    "        return out\n",
    "    \n",
    "    l_indices = np.tril_indices(n, -1)\n",
    "    u_indices = np.triu_indices(n, 1)\n",
    "\n",
    "    out[u_indices] = a\n",
    "    out[l_indices] = out.T[l_indices]\n",
    "    \n",
    "    return out"
   ]
  },
  {
   "cell_type": "code",
   "execution_count": null,
   "metadata": {},
   "outputs": [],
   "source": [
    "# Load clinical variables of stroke patients\n",
    "Salvo = pd.read_csv(\"/.../DFNC/Behavior/SALVO_1206.csv\")\n",
    "\n",
    "n_subjects = 41\n",
    "# Number of dFNC windows, number of correlations\n",
    "n_windows = 129\n",
    "n_corr = 1176\n",
    "\n",
    "# Defining subgroups of vairably affected patients\n",
    "mild = Salvo.InHospitalNIHSS.sort_values()[0:19].index\n",
    "moderate = Salvo.InHospitalNIHSS.sort_values()[19:34].index\n",
    "severe = Salvo.InHospitalNIHSS.sort_values()[34:41].index\n",
    "\n",
    "# load subject names\n",
    "subject_names = glob.glob('/..../WithSM_dfnc_sub*',)\n",
    "subject_names = sorted(subject_names)\n",
    "# checked subject order\n",
    "\n",
    "# load individual fncs, state information, fraction and dwell times and numbers of transition (as saved after dFNC computation in matlab)\n",
    "dfnc = np.zeros((n_subjects,n_windows,n_corr))\n",
    "for n in range(0,n_subjects,1):\n",
    "   \n",
    "    dfnc[n] = loadmat(subject_names[n])['FNCdyn']\n",
    "    \n",
    "x = loadmat('/.../states_stroke.mat')[\"a\"]\n",
    "for n in range(0,np.shape(x)[0],1):\n",
    "    if n==0:\n",
    "        states = pd.DataFrame(x[n][0])\n",
    "    else:\n",
    "        states[n] = pd.DataFrame(x[n][0])\n",
    "states = states.transpose()\n",
    "\n",
    "fraction = loadmat('/.../fraction_time.mat')[\"frac\"]\n",
    "fraction = pd.DataFrame(fraction)\n",
    "fraction.columns = [\"State_1\", \"State_2\", \"State_3\"]\n",
    "\n",
    "dwell = loadmat('/.../dwell_time.mat')[\"dwell\"]\n",
    "dwell = pd.DataFrame(dwell)\n",
    "dwell.columns = [\"State_1\", \"State_2\", \"State_3\"]\n",
    "\n",
    "num_trans = loadmat('/.../num_trans.mat')[\"num_trans\"]\n",
    "num_trans = pd.DataFrame(num_trans)"
   ]
  },
  {
   "cell_type": "markdown",
   "metadata": {},
   "source": [
    "Subgroup analysis "
   ]
  },
  {
   "cell_type": "code",
   "execution_count": null,
   "metadata": {},
   "outputs": [],
   "source": [
    "# Three-level one-way ANOVA for fraction times \n",
    "a = stats.f_oneway(fraction[\"State_1\"].iloc[mild], fraction[\"State_1\"].iloc[moderate],fraction[\"State_1\"].iloc[severe],)[1]\n",
    "b = stats.f_oneway(fraction[\"State_2\"].iloc[mild], fraction[\"State_2\"].iloc[moderate],fraction[\"State_2\"].iloc[severe],)[1]\n",
    "c = stats.f_oneway(fraction[\"State_3\"].iloc[mild], fraction[\"State_3\"].iloc[moderate],fraction[\"State_3\"].iloc[severe],)[1]\n",
    "print(\"State 1: %f\" %stats.f_oneway(fraction[\"State_1\"].iloc[mild], fraction[\"State_1\"].iloc[moderate],fraction[\"State_1\"].iloc[severe],)[1])\n",
    "print(\"State 2: %f\" %stats.f_oneway(fraction[\"State_2\"].iloc[mild], fraction[\"State_2\"].iloc[moderate],fraction[\"State_2\"].iloc[severe],)[1])\n",
    "print(\"State 3: %f\" %stats.f_oneway(fraction[\"State_3\"].iloc[mild], fraction[\"State_3\"].iloc[moderate],fraction[\"State_3\"].iloc[severe],)[1])"
   ]
  },
  {
   "cell_type": "code",
   "execution_count": null,
   "metadata": {},
   "outputs": [],
   "source": [
    "# post-hoc t-test \n",
    "n_dfnc = [\"State_1\", \"State_2\", \"State_3\"]\n",
    "no = [0,1,2,]\n",
    "p_all_better = np.zeros(3)\n",
    "print(\"Fraction time: Mild vs Moderate\")\n",
    "for n, p in zip(n_dfnc, no):\n",
    "    rvs1 = fraction[n].iloc[mild]\n",
    "    rvs2 = fraction[n].iloc[moderate]\n",
    "    p_all_better[p] = stats.ttest_ind(rvs1,rvs2)[1] \n",
    "    print(\"%s\" % n)\n",
    "    print(\"Moderate deficit: %f\" %(rvs2.mean()))\n",
    "    print(\"Mild deficit: %f\" %(rvs1.mean()))\n",
    "    print(\"%f\" %stats.ttest_ind(rvs1,rvs2)[1])"
   ]
  },
  {
   "cell_type": "code",
   "execution_count": null,
   "metadata": {},
   "outputs": [],
   "source": [
    "# post-hoc t-test \n",
    "p_all_worse = np.zeros(3)\n",
    "print(\"Fraction time: Mild vs severe\")\n",
    "for n, p in zip(n_dfnc, no):\n",
    "    rvs1 = fraction[n].iloc[mild]\n",
    "    rvs2 = fraction[n].iloc[severe]\n",
    "    p_all_worse[p] = stats.ttest_ind(rvs1,rvs2)[1] \n",
    "    print(\"%s\" % n)\n",
    "    print(\"Severe deficit: %f\" %(rvs2.mean()))\n",
    "    print(\"Mild deficit: %f\" %(rvs1.mean()))\n",
    "    print(\"%f\" %stats.ttest_ind(rvs1,rvs2)[1])"
   ]
  },
  {
   "cell_type": "code",
   "execution_count": null,
   "metadata": {},
   "outputs": [],
   "source": [
    "# post-hoc t-test Moderate vs severe\n",
    "p_all_bw = np.zeros(3)\n",
    "print(\"Fraction time: Patients with moderate vs Patients with severe symptoms\")\n",
    "for n, p in zip(n_dfnc, no):\n",
    "    rvs1 = fraction[n].iloc[moderate]\n",
    "    rvs2 = fraction[n].iloc[severe]\n",
    "    p_all_bw[p] = stats.ttest_ind(rvs1,rvs2)[1] \n",
    "    print(\"%s\" % n)\n",
    "    print(\"Severe deficit: %f\" %(rvs2.mean()))\n",
    "    print(\"Moderate deficit: %f\" %(rvs1.mean()))\n",
    "    print(\"%f\" %stats.ttest_ind(rvs1,rvs2)[1])"
   ]
  },
  {
   "cell_type": "code",
   "execution_count": null,
   "metadata": {},
   "outputs": [],
   "source": [
    "# FDR-corrections for p-values in State 1\n",
    "statsmodels.stats.multitest.multipletests([0.504671,0.004807, 0.050557], alpha=0.05, method='fdr_bh', is_sorted=False, returnsorted=False)\n"
   ]
  },
  {
   "cell_type": "code",
   "execution_count": null,
   "metadata": {},
   "outputs": [],
   "source": [
    "N = 3\n",
    "All_severe = np.mean(fraction[\"State_1\"].loc[severe]) + np.mean(fraction[\"State_2\"].loc[severe]) + np.mean(fraction[\"State_3\"].loc[severe])\n",
    "All_moderate = np.mean(fraction[\"State_1\"].loc[moderate]) + np.mean(fraction[\"State_2\"].loc[moderate]) + np.mean(fraction[\"State_3\"].loc[moderate])\n",
    "All_mild = np.mean(fraction[\"State_1\"].loc[mild]) + np.mean(fraction[\"State_2\"].loc[mild]) + np.mean(fraction[\"State_3\"].loc[mild])\n",
    "State1Means = (np.mean(fraction[\"State_1\"].loc[mild])/All_mild, np.mean(fraction[\"State_1\"].loc[moderate])/All_moderate, np.mean(fraction[\"State_1\"].loc[severe])/All_severe,)\n",
    "State2Means = (np.mean(fraction[\"State_2\"].loc[mild])/All_mild, np.mean(fraction[\"State_2\"].loc[moderate])/All_moderate, np.mean(fraction[\"State_2\"].loc[severe])/All_severe,)\n",
    "State3Means = (np.mean(fraction[\"State_3\"].loc[mild])/All_mild, np.mean(fraction[\"State_3\"].loc[moderate])/All_moderate, np.mean(fraction[\"State_3\"].loc[severe])/All_severe,)\n",
    "bottom = np.add(State1Means, State2Means).tolist()\n",
    "\n",
    "\n",
    "plt.figure(figsize=(14, 10))\n",
    "ind = np.arange(N)    # the x locations for the groups\n",
    "width = 0.35       # the width of the bars: can also be len(x) sequence\n",
    "\n",
    "p1 = plt.barh(ind, State1Means, width,  color='darkgoldenrod', edgecolor='white')\n",
    "p2 = plt.barh(ind, State2Means, width,\n",
    "             left=State1Means, color='goldenrod', edgecolor='white')\n",
    "p3 = plt.barh(ind, State3Means, width,\n",
    "             left=bottom, color='gold', edgecolor='white')\n",
    "\n",
    "plt.title('Fraction times', fontsize=25)\n",
    "plt.yticks(ind, ('Mild Stroke Severity', 'Moderate Stroke Severity', \"Severe stroke severity\"), fontsize=15)\n",
    "plt.xticks(fontsize=15)\n",
    "#plt.savefig(\"ANOVA_Fraction.png\", dpi=600)"
   ]
  },
  {
   "cell_type": "code",
   "execution_count": null,
   "metadata": {},
   "outputs": [],
   "source": [
    "# Three-level one-way ANOVA for dwell times \n",
    "d = stats.f_oneway(dwell[\"State_1\"].iloc[mild], dwell[\"State_1\"].iloc[moderate],dwell[\"State_1\"].iloc[severe],)[1]\n",
    "e = stats.f_oneway(dwell[\"State_2\"].iloc[mild], dwell[\"State_2\"].iloc[moderate],dwell[\"State_2\"].iloc[severe],)[1]\n",
    "f = stats.f_oneway(dwell[\"State_3\"].iloc[mild], dwell[\"State_3\"].iloc[moderate],dwell[\"State_3\"].iloc[severe],)[1]\n",
    "print(\"State 1: %f\" %stats.f_oneway(dwell[\"State_1\"].iloc[mild], dwell[\"State_1\"].iloc[moderate],dwell[\"State_1\"].iloc[severe],)[1])\n",
    "print(\"State 2: %f\" %stats.f_oneway(dwell[\"State_2\"].iloc[mild], dwell[\"State_2\"].iloc[moderate],dwell[\"State_2\"].iloc[severe],)[1])\n",
    "print(\"State 3: %f\" %stats.f_oneway(dwell[\"State_3\"].iloc[mild], dwell[\"State_3\"].iloc[moderate],dwell[\"State_3\"].iloc[severe],)[1])"
   ]
  },
  {
   "cell_type": "code",
   "execution_count": null,
   "metadata": {},
   "outputs": [],
   "source": [
    "# post-hoc t-test Control vs moderate\n",
    "p_all_better = np.zeros(3)\n",
    "print(\"Dwell time: Mild Moderate\")\n",
    "for n, p in zip(n_dfnc, no):\n",
    "    rvs1 = dwell[n].iloc[mild]\n",
    "    rvs2 = dwell[n].iloc[moderate]\n",
    "    p_all_better[p] = stats.ttest_ind(rvs1,rvs2)[1] \n",
    "    print(\"%s\" % n)\n",
    "    print(\"Moderate deficit: %f\" %(rvs2.mean()))\n",
    "    print(\"Mild deficit: %f\" %(rvs1.mean()))\n",
    "    print(\"%f\" %stats.ttest_ind(rvs1,rvs2)[1])"
   ]
  },
  {
   "cell_type": "code",
   "execution_count": null,
   "metadata": {},
   "outputs": [],
   "source": [
    "# post-hoc t-test Control vs severe\n",
    "p_all_worse = np.zeros(3)\n",
    "print(\"Dwell time: Mild Severe\")\n",
    "for n, p in zip(n_dfnc, no):\n",
    "    rvs1 = dwell[n].iloc[mild]\n",
    "    rvs2 = dwell[n].iloc[severe]\n",
    "    p_all_worse[p] = stats.ttest_ind(rvs1,rvs2)[1] \n",
    "    print(\"%s\" % n)\n",
    "    print(\"Severe deficit: %f\" %(rvs2.mean()))\n",
    "    print(\"Mild deficit: %f\" %(rvs1.mean()))\n",
    "    print(\"%f\" %stats.ttest_ind(rvs1,rvs2)[1])"
   ]
  },
  {
   "cell_type": "code",
   "execution_count": null,
   "metadata": {},
   "outputs": [],
   "source": [
    "# post-hoc t-test moderate vs severe\n",
    "p_all_bw = np.zeros(3)\n",
    "print(\"Dwell time: Moderate Severe\")\n",
    "for n, p in zip(n_dfnc, no):\n",
    "    rvs1 = dwell[n].iloc[moderate]\n",
    "    rvs2 = dwell[n].iloc[severe]\n",
    "    p_all_bw[p] = stats.ttest_ind(rvs1,rvs2)[1] \n",
    "    print(\"%s\" % n)\n",
    "    print(\"Severe deficit: %f\" %(rvs2.mean()))\n",
    "    print(\"Moderate deficit: %f\" %(rvs1.mean()))\n",
    "    print(\"%f\" %stats.ttest_ind(rvs1,rvs2)[1])"
   ]
  },
  {
   "cell_type": "code",
   "execution_count": null,
   "metadata": {},
   "outputs": [],
   "source": [
    "# Correction for multiple comparison:  Dwell times State 1\n",
    "statsmodels.stats.multitest.multipletests([0.820554,0.004715, 0.017701], alpha=0.05, method='fdr_bh', is_sorted=False, returnsorted=False)\n"
   ]
  },
  {
   "cell_type": "code",
   "execution_count": null,
   "metadata": {},
   "outputs": [],
   "source": [
    "N = 3\n",
    "State1Means = (np.mean(dwell[\"State_1\"].iloc[mild])/All_mild, np.mean(dwell[\"State_1\"].iloc[moderate])/All_moderate, np.mean(dwell[\"State_1\"].iloc[severe])/All_severe,)\n",
    "State2Means = (np.mean(dwell[\"State_2\"].iloc[mild])/All_mild, np.mean(dwell[\"State_2\"].iloc[moderate])/All_moderate, np.mean(dwell[\"State_2\"].iloc[severe])/All_severe,)\n",
    "State3Means = (np.mean(dwell[\"State_3\"].iloc[mild])/All_mild, np.mean(dwell[\"State_3\"].iloc[moderate])/All_moderate, np.mean(dwell[\"State_3\"].iloc[severe])/All_severe,)\n",
    "bottom = np.add(State1Means, State2Means).tolist()\n",
    "\n",
    "\n",
    "plt.figure(figsize=(14, 10))\n",
    "ind = np.arange(N)    # the x locations for the groups\n",
    "width = 0.35       # the width of the bars: can also be len(x) sequence\n",
    "\n",
    "p1 = plt.barh(ind, State1Means, width,  color='darkgreen', edgecolor='white')\n",
    "p2 = plt.barh(ind, State2Means, width,\n",
    "             left=State1Means, color='g', edgecolor='white')\n",
    "p3 = plt.barh(ind, State3Means, width,\n",
    "             left=bottom, color='lightgreen', edgecolor='white')\n",
    "\n",
    "#plt.ylabel('Scores')\n",
    "plt.title('Dwell times', fontsize=25)\n",
    "\n",
    "plt.yticks(ind, ('Mild Stroke Severity', 'Moderate Stroke Severity', \"Severe stroke severity\"), fontsize=15)\n",
    "plt.xticks(fontsize=15)\n",
    "plt.legend((p1[0], p2[0], p3[0]), ('State 1', 'State 2', 'State 3'), fontsize=15)\n",
    "#plt.savefig(\"ANOVA_Dwell.png\", dpi=600)\n",
    "#plt.show()"
   ]
  },
  {
   "cell_type": "code",
   "execution_count": null,
   "metadata": {},
   "outputs": [],
   "source": [
    "# Group differences in numbers of transition\n",
    "rvs1 = num_trans.iloc[mild]\n",
    "rvs2 = num_trans.iloc[moderate]\n",
    "rvs3 = num_trans.iloc[severe]\n",
    "print(\"Mean No of transitions\")\n",
    "print(\"No deficit: %f\" %(rvs1.mean()))\n",
    "print(\"Moderate Deficit: %f\" %(rvs2.mean()))\n",
    "print(\"Severe Deficit: %f\" %(rvs3.mean()))\n",
    "print(\"One-way ANOVA transition times: %f\" %stats.f_oneway(rvs1, rvs2,rvs3,)[1])"
   ]
  }
 ],
 "metadata": {
  "kernelspec": {
   "display_name": "Python 3",
   "language": "python",
   "name": "python3"
  },
  "language_info": {
   "codemirror_mode": {
    "name": "ipython",
    "version": 3
   },
   "file_extension": ".py",
   "mimetype": "text/x-python",
   "name": "python",
   "nbconvert_exporter": "python",
   "pygments_lexer": "ipython3",
   "version": "3.7.1"
  }
 },
 "nbformat": 4,
 "nbformat_minor": 2
}
