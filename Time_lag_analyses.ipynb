{
 "cells": [
  {
   "cell_type": "code",
   "execution_count": null,
   "metadata": {},
   "outputs": [],
   "source": [
    "# loading packages\n",
    "import pandas as pd\n",
    "import numpy as np\n",
    "import scipy.stats as stats\n",
    "import nibabel as nib\n",
    "from nilearn import datasets\n",
    "from nilearn.input_data import NiftiLabelsMasker\n",
    "from nilearn.image import resample_to_img\n",
    "import matplotlib.pyplot as plt\n",
    "import glob\n",
    "from rapidtide.workflows import showxcorrx_workflow, showxcorrx"
   ]
  },
  {
   "cell_type": "code",
   "execution_count": null,
   "metadata": {},
   "outputs": [],
   "source": [
    "dataset = datasets.fetch_atlas_harvard_oxford('sub-maxprob-thr50-2mm')\n",
    "subcortical_mask = dataset.maps\n",
    "labels = dataset.labels\n",
    "\n",
    "# resample to functional images\n",
    "resampled_stat_img = resample_to_img(subcortical_mask, \"/...nii\")\n",
    "\n",
    "masker = NiftiLabelsMasker(labels_img=resampled_stat_img,\n",
    "                           memory='nilearn_cache', verbose=5)\n",
    "masker.fit()"
   ]
  },
  {
   "cell_type": "code",
   "execution_count": null,
   "metadata": {},
   "outputs": [],
   "source": [
    "# Compute time courses for grey matter in left and right cortical grey matter\n",
    "scans = glob.glob(\"/.../DFNC/Data/RS_8mm/*\")\n",
    "for scan, no in zip(scans, range(41)):\n",
    "    print(scan)\n",
    "    img_subj = nib.load(scan)\n",
    "    a = masker.transform(img_subj)\n",
    "    # left\n",
    "    timecourse_1 = np.array(a[0,2])\n",
    "    for n in range(1,147):\n",
    "        timecourse_1 = np.append(timecourse_1,np.array(a[n,2]))\n",
    "    name = '/.../DFNC/Data/Timecourse/Subject_'+str(no)+'_1.txt'\n",
    "    np.savetxt(name,timecourse_1) \n",
    "    # right\n",
    "    timecourse_2 = np.array(a[0,13])\n",
    "    for n in range(1,147):\n",
    "        timecourse_2 = np.append(timecourse_2,np.array(a[n,13]))\n",
    "    name_2 = '/.../DFNC/Data/Timecourse/Subject_'+str(no)+'_2.txt'\n",
    "    np.savetxt(name_2,timecourse_2) "
   ]
  },
  {
   "cell_type": "code",
   "execution_count": null,
   "metadata": {},
   "outputs": [],
   "source": [
    "# Perform time lag analysis\n",
    "for scan, no in zip(scans,range(41)):\n",
    "    print(scan)\n",
    "    \n",
    "    name = '/.../DFNC/Data/Timecourse/Subject_'+str(no)+'_1.txt'\n",
    "    \n",
    "    name_2 = '/.../DFNC/Data/Timecourse/Subject_'+str(no)+'_2.txt'\n",
    "\n",
    "    showxcorrx_workflow(name,name_2,0.4,labelline=True,prewindow=True,summarymode=True,filtertype='none',corrweighting=\"none\",searchrange=10, display=False)"
   ]
  },
  {
   "cell_type": "code",
   "execution_count": null,
   "metadata": {},
   "outputs": [],
   "source": []
  }
 ],
 "metadata": {
  "kernelspec": {
   "display_name": "Python 3",
   "language": "python",
   "name": "python3"
  },
  "language_info": {
   "codemirror_mode": {
    "name": "ipython",
    "version": 3
   },
   "file_extension": ".py",
   "mimetype": "text/x-python",
   "name": "python",
   "nbconvert_exporter": "python",
   "pygments_lexer": "ipython3",
   "version": "3.7.1"
  }
 },
 "nbformat": 4,
 "nbformat_minor": 4
}
